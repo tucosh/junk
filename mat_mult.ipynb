{
 "cells": [
  {
   "cell_type": "markdown",
   "id": "b516cad0-4af1-44d6-b7d4-5b55c09be57d",
   "metadata": {},
   "source": [
    "# Matrix multiplication refresher"
   ]
  },
  {
   "cell_type": "code",
   "execution_count": 23,
   "id": "3275da0b-b02e-4b3b-9ffc-722b7fde82b7",
   "metadata": {},
   "outputs": [],
   "source": [
    "# https://www.ibm.com/docs/en/watson-studio-local/1.2.3?topic=notebooks-markdown-jupyter-cheatsheet"
   ]
  },
  {
   "cell_type": "code",
   "execution_count": 2,
   "id": "2dbbedd6-68d4-4511-aea7-025470b9f86d",
   "metadata": {
    "tags": []
   },
   "outputs": [],
   "source": [
    "# 1D matrices (Vectors)\n",
    "v1 = [1,2,3]\n",
    "v2 = [4,5,6]\n",
    "\n",
    "# 2D matrices\n",
    "a1 = [\n",
    "  [1.0, 2.0],\n",
    "  [3.0, 4.0]\n",
    "]\n",
    "a2 = [\n",
    "  [5.0, 6.0],\n",
    "  [7.0, 8.0]\n",
    "]"
   ]
  },
  {
   "cell_type": "markdown",
   "id": "4de2d596-6928-47fc-822a-c42ab2e67be3",
   "metadata": {},
   "source": [
    "In NumPy, the np.dot() function is overloaded to perform matrix multiplication when both of the input arguments are 2D arrays (matrices). For 1D arrays (vectors), it calculates the dot product, which results in a scalar.\n",
    "\n",
    "While np.dot() handles both, NumPy does offer a dedicated function for matrix multiplication: np.matmul() or its shorthand operator @.\n",
    "\n",
    "np.dot() vs. np.matmul() The key difference between the two functions becomes apparent with higher-dimensional arrays or when one of the inputs is a 1D array.\n",
    "\n",
    "np.dot():\n",
    "\n",
    "If both arguments are 1D arrays, it performs a dot product and returns a scalar.\n",
    "\n",
    "If both are 2D arrays, it performs matrix multiplication.\n",
    "\n",
    "If one argument is an N-dimensional array and the other is a 1D array, it treats the 1D array as a vector and computes a sum product over the last axis of the first array and the first axis of the second array.\n",
    "\n",
    "np.matmul() (or @):\n",
    "\n",
    "This function is specifically designed for matrix multiplication.\n",
    "\n",
    "It strictly follows matrix multiplication rules. For example, for 2D inputs, it behaves identically to np.dot().\n",
    "\n",
    "For arrays with more than two dimensions (e.g., 3D tensors used in deep learning), np.matmul() handles broadcasting in a way that is more predictable and intuitive for batch operations. It treats the last two dimensions as matrices and performs matrix multiplication on them, leaving the leading dimensions for broadcasting.\n",
    "\n",
    "For most cases involving 2D arrays, np.dot() and np.matmul() will produce the same result. However, np.matmul() is generally the preferred choice for matrix multiplication due to its clearer intent and more consistent behavior with higher-dimensional data, which is common in machine learning."
   ]
  },
  {
   "cell_type": "code",
   "execution_count": 7,
   "id": "91c1f673-4835-409b-aee5-83fc564301c9",
   "metadata": {
    "tags": []
   },
   "outputs": [
    {
     "name": "stdout",
     "output_type": "stream",
     "text": [
      "Using np.dot(): 32\n",
      "Using np.matmul(): 32\n",
      "Using np.dot():\n",
      " [[19. 22.]\n",
      " [43. 50.]]\n",
      "Using np.matmul():\n",
      " [[19. 22.]\n",
      " [43. 50.]]\n",
      "Using @:\n",
      " [[19. 22.]\n",
      " [43. 50.]]\n",
      "Using np.multiply(): [ 4 10 18]\n",
      "Using np.multiply():\n",
      " [[ 5. 12.]\n",
      " [21. 32.]]\n",
      "Using * operator: [ 4 10 18]\n",
      "Using *:\n",
      " [[ 5. 12.]\n",
      " [21. 32.]]\n"
     ]
    }
   ],
   "source": [
    "import numpy as np\n",
    "\n",
    "np_v1 = np.array(v1)\n",
    "np_v2 = np.array(v2)\n",
    "np_a1 = np.array(a1)\n",
    "np_a2 = np.array(a2)\n",
    "\n",
    "print(\"Using np.dot():\", np.dot(np_v1, np_v2))\n",
    "\n",
    "# matmul() also works for vectors\n",
    "print(\"Using np.matmul():\", np.matmul(np_v1, np_v2))\n",
    "\n",
    "print(\"Using np.dot():\\n\", np.dot(np_a1, np_a2))\n",
    "\n",
    "print(\"Using np.matmul():\\n\", np.matmul(np_a1, np_a2))\n",
    "\n",
    "print(\"Using @:\\n\", np_a1 @ np_a2)\n",
    "\n",
    "# Element-wise multiplication using multiply()\n",
    "print(\"Using np.multiply():\", np.multiply(np_v1, np_v2))\n",
    "\n",
    "print(\"Using np.multiply():\\n\", np.multiply(np_a1, np_a2))\n",
    "\n",
    "# Element-wise multiplication using * operator\n",
    "print(\"Using * operator:\", np_v1 * np_v2)\n",
    "print(\"Using *:\\n\", np_a1 * np_a2)"
   ]
  },
  {
   "cell_type": "code",
   "execution_count": 3,
   "id": "68702c40-55f4-4281-b96a-c5150cef20f1",
   "metadata": {
    "tags": []
   },
   "outputs": [],
   "source": [
    "array1 = [1,2,3,4]\n",
    "array2 = [5,6,7,8]\n",
    "array3 = [\n",
    "  [1.0, 2.0],\n",
    "  [3.0, 4.0]\n",
    "]\n",
    "array4 = [\n",
    "  [5.0, 6.0],\n",
    "  [7.0, 8.0]\n",
    "]"
   ]
  },
  {
   "cell_type": "markdown",
   "id": "a801877f-c476-4cc5-82ce-23bcb45361cf",
   "metadata": {},
   "source": [
    "Just like NumPy, TensorFlow's tf.matmul() function is the primary way to perform matrix multiplication. There is no tf.dot() function for general-purpose use, as the dot product is implicitly handled by other functions depending on the context.\n",
    "\n",
    "tf.matmul()\n",
    "tf.matmul() is the main function for matrix multiplication. It works for 2D tensors (matrices) and is also designed to handle higher-dimensional tensors efficiently for batch operations, which is a common task in machine learning. .\n",
    "\n",
    "Python\n",
    "\n",
    "import tensorflow as tf\n",
    "\n",
    "# Define two 2x2 tensors\n",
    "A = tf.constant([[1, 2], [3, 4]])\n",
    "B = tf.constant([[5, 6], [7, 8]])\n",
    "\n",
    "# Perform matrix multiplication\n",
    "C = tf.matmul(A, B)\n",
    "\n",
    "print(C)\n",
    "Output:\n",
    "\n",
    "tf.Tensor(\n",
    "[[19 22]\n",
    " [43 50]], shape=(2, 2), dtype=int32)\n",
    "The Dot Product in TensorFlow\n",
    "While there isn't a dedicated tf.dot() function, the concept of a dot product is handled in a few ways:\n",
    "\n",
    "For two 1D tensors (vectors): TensorFlow doesn't have a single tf.dot() function like NumPy. Instead, you can achieve a dot product by performing a matrix multiplication with the vectors properly reshaped. A more common and often more efficient way to calculate a dot product for two vectors is to use element-wise multiplication followed by a reduce_sum operation.\n",
    "\n",
    "Python\n",
    "\n",
    "import tensorflow as tf\n",
    "\n",
    "u = tf.constant([1, 2, 3])\n",
    "v = tf.constant([4, 5, 6])\n",
    "\n",
    "# This is the most common way to get a dot product in TensorFlow\n",
    "dot_product = tf.reduce_sum(u * v)\n",
    "\n",
    "print(dot_product)\n",
    "Output:\n",
    "\n",
    "tf.Tensor(32, shape=(), dtype=int32)\n",
    "The operation u * v performs element-wise multiplication, resulting in [4, 10, 18]. tf.reduce_sum() then sums these elements to produce the final scalar result, 32."
   ]
  },
  {
   "cell_type": "code",
   "execution_count": 18,
   "id": "9ca72806-4ff3-46f3-babc-6b0113eb61c4",
   "metadata": {
    "tags": []
   },
   "outputs": [],
   "source": [
    "import os\n",
    "os.environ['TF_CPP_MIN_LOG_LEVEL'] = '3'\n",
    "import tensorflow as tf\n",
    "tf_v1 = tf.constant(v1)\n",
    "tf_v2 = tf.constant(v2)\n",
    "tf_a1 = tf.constant(a1)\n",
    "tf_a2 = tf.constant(a2)"
   ]
  },
  {
   "cell_type": "code",
   "execution_count": 16,
   "id": "f98f1672-dde0-437a-981f-63bdb37c14cf",
   "metadata": {
    "tags": []
   },
   "outputs": [
    {
     "name": "stdout",
     "output_type": "stream",
     "text": [
      "element-wise multiplication: tf.Tensor([ 4 10 18], shape=(3,), dtype=int32)\n",
      "dot-product using element-wise multiplication: tf.Tensor(32, shape=(), dtype=int32)\n",
      "matrix multiplication using @:\n",
      " tf.Tensor(\n",
      "[[19. 22.]\n",
      " [43. 50.]], shape=(2, 2), dtype=float32)\n",
      "matrix multiplication using tf.matmul:\n",
      " tf.Tensor(\n",
      "[[19. 22.]\n",
      " [43. 50.]], shape=(2, 2), dtype=float32)\n"
     ]
    }
   ],
   "source": [
    "print(\"element-wise multiplication:\", tf_v1 * tf_v2)\n",
    "print(\"dot-product using element-wise multiplication:\", tf.reduce_sum(tf_v1 * tf_v2))    \n",
    "\n",
    "# print(\"element-wise multiplication:\", tf_v1 @ tf_v2)\n",
    "print(\"matrix multiplication using @:\\n\", tf_a1 @ tf_a2)\n",
    "print(\"matrix multiplication using tf.matmul:\\n\", tf.matmul(tf_a1, tf_a2))"
   ]
  },
  {
   "cell_type": "code",
   "execution_count": 9,
   "id": "1dba4176-bed0-4051-aa1e-0720e540ec80",
   "metadata": {
    "tags": []
   },
   "outputs": [],
   "source": [
    "import torch"
   ]
  },
  {
   "cell_type": "markdown",
   "id": "9e70ca87-ac05-437e-b53d-6916bfc27cdd",
   "metadata": {},
   "source": [
    "In PyTorch, there are several ways to perform matrix multiplication and the dot product, similar to NumPy and TensorFlow.\n",
    "\n",
    "Matrix Multiplication (torch.matmul)\n",
    "The primary function for matrix multiplication in PyTorch is torch.matmul(). It's designed to handle 2D matrices as well as higher-dimensional tensors with batching, making it the most common choice for linear operations in neural networks. .\n",
    "\n",
    "Python\n",
    "\n",
    "import torch\n",
    "\n",
    "# Define two 2x2 tensors (matrices)\n",
    "A = torch.tensor([[1, 2], [3, 4]])\n",
    "B = torch.tensor([[5, 6], [7, 8]])\n",
    "\n",
    "# Perform matrix multiplication\n",
    "C = torch.matmul(A, B)\n",
    "\n",
    "print(C)\n",
    "Output:\n",
    "\n",
    "tensor([[19, 22],\n",
    "        [43, 50]])\n",
    "Similar to NumPy, PyTorch also supports the @ operator as a shorthand for torch.matmul().\n",
    "\n",
    "The Dot Product (torch.dot)\n",
    "Unlike TensorFlow, PyTorch has a dedicated function, torch.dot(), specifically for calculating the dot product of two 1D vectors. This function will raise an error if you try to use it on tensors with more than one dimension.\n",
    "\n",
    "Python\n",
    "\n",
    "import torch\n",
    "\n",
    "# Define two 1D tensors (vectors)\n",
    "u = torch.tensor([1, 2, 3])\n",
    "v = torch.tensor([4, 5, 6])\n",
    "\n",
    "# Calculate the dot product\n",
    "dot_product = torch.dot(u, v)\n",
    "\n",
    "print(dot_product)\n",
    "Output:\n",
    "\n",
    "tensor(32)\n",
    "As with TensorFlow and NumPy, you can also compute the dot product by performing element-wise multiplication followed by a sum.\n",
    "\n",
    "Python\n",
    "\n",
    "import torch\n",
    "\n",
    "u = torch.tensor([1, 2, 3])\n",
    "v = torch.tensor([4, 5, 6])\n",
    "\n",
    "# Element-wise multiplication followed by sum\n",
    "dot_product_manual = torch.sum(u * v)\n",
    "\n",
    "print(dot_product_manual)"
   ]
  },
  {
   "cell_type": "code",
   "execution_count": 19,
   "id": "1b22ba21-aefd-452e-847b-869e9eb25380",
   "metadata": {
    "tags": []
   },
   "outputs": [],
   "source": [
    "import torch\n",
    "t_v1 = torch.tensor(v1)\n",
    "t_v2 = torch.tensor(v2)\n",
    "t_a1 = torch.tensor(a1)\n",
    "t_a2 = torch.tensor(a2)\n"
   ]
  },
  {
   "cell_type": "code",
   "execution_count": 20,
   "id": "e1a209c8-d44c-4f16-ba55-def9f6bff269",
   "metadata": {
    "tags": []
   },
   "outputs": [
    {
     "data": {
      "text/plain": [
       "tensor(32)"
      ]
     },
     "execution_count": 20,
     "metadata": {},
     "output_type": "execute_result"
    }
   ],
   "source": [
    "t_v1 @ t_v2"
   ]
  },
  {
   "cell_type": "code",
   "execution_count": 21,
   "id": "b8eac177-c58c-426c-8fb7-75d3e1f51662",
   "metadata": {
    "tags": []
   },
   "outputs": [
    {
     "data": {
      "text/plain": [
       "tensor(32)"
      ]
     },
     "execution_count": 21,
     "metadata": {},
     "output_type": "execute_result"
    }
   ],
   "source": [
    "torch.dot(t_v1, t_v2)"
   ]
  }
 ],
 "metadata": {
  "kernelspec": {
   "display_name": "Python 3 (ipykernel)",
   "language": "python",
   "name": "python3"
  },
  "language_info": {
   "codemirror_mode": {
    "name": "ipython",
    "version": 3
   },
   "file_extension": ".py",
   "mimetype": "text/x-python",
   "name": "python",
   "nbconvert_exporter": "python",
   "pygments_lexer": "ipython3",
   "version": "3.11.7"
  }
 },
 "nbformat": 4,
 "nbformat_minor": 5
}
