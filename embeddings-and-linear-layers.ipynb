{
 "cells": [
  {
   "cell_type": "code",
   "execution_count": null,
   "id": "e98e452f-7608-4c0c-a7e5-68a3e3087c39",
   "metadata": {},
   "outputs": [],
   "source": [
    "    # Adapted from https://github.com/rasbt/LLMs-from-scratch/blob/main/ch02/03_bonus_embedding-vs-matmul/embeddings-and-linear-layers.ipynb"
   ]
  },
  {
   "cell_type": "markdown",
   "id": "5f8866b7-15fb-4a3a-9b31-3d7faaa92559",
   "metadata": {},
   "source": [
    "# Understanding the Difference Between Embedding Layers and Linear Layers\n",
    "Embedding layers in Tensorflow/PyTorch accomplish the same as linear layers that perform matrix multiplications; the reason we use embedding layers is computational efficiency\n",
    "We will take a look at this relationship step by step using code examples\n",
    "\n"
   ]
  },
  {
   "cell_type": "code",
   "execution_count": 3,
   "id": "37fbf321-a8a5-4a58-9086-219bd581627c",
   "metadata": {
    "tags": []
   },
   "outputs": [],
   "source": [
    "import numpy as np\n",
    "import os\n",
    "os.environ['TF_CPP_MIN_LOG_LEVEL'] = '3'\n",
    "import tensorflow as tf"
   ]
  },
  {
   "cell_type": "code",
   "execution_count": 4,
   "id": "ef0420c8-ee84-4941-b201-b62ffa7cf1c6",
   "metadata": {
    "tags": []
   },
   "outputs": [],
   "source": [
    "# Suppose we have the following 3 training examples,\n",
    "# which may represent token IDs in a LLM context\n",
    "idx = tf.constant([2, 3, 1])\n",
    "\n",
    "# The number of rows in the embedding matrix can be determined\n",
    "# by obtaining the largest token ID + 1.\n",
    "# If the highest token ID is 3, then we want 4 rows, for the possible\n",
    "# token IDs 0, 1, 2, 3\n",
    "num_idx = tf.reduce_max(idx) + 1\n",
    "\n",
    "# # The desired embedding dimension is a hyperparameter\n",
    "out_dim = 5"
   ]
  },
  {
   "cell_type": "code",
   "execution_count": 7,
   "id": "0401f91e-4bcb-4f28-b754-bf307f90e86f",
   "metadata": {
    "tags": []
   },
   "outputs": [
    {
     "name": "stdout",
     "output_type": "stream",
     "text": [
      "embedding weights:\n",
      " [array([[0.  , 0.  , 0.  , 0.  , 0.  ],\n",
      "       [0.11, 0.11, 0.11, 0.11, 0.11],\n",
      "       [0.22, 0.22, 0.22, 0.22, 0.22],\n",
      "       [0.33, 0.33, 0.33, 0.33, 0.33]], dtype=float32)]\n"
     ]
    }
   ],
   "source": [
    "tf.random.set_seed(123)\n",
    "fake_weights = np.array([\n",
    "  [0.00, 0.00, 0.00, 0.00, 0.00], # 0\n",
    "  [0.11, 0.11, 0.11, 0.11, 0.11], # 1\n",
    "  [0.22, 0.22, 0.22, 0.22, 0.22], # 2\n",
    "  [0.33, 0.33, 0.33, 0.33, 0.33], # 3\n",
    "])\n",
    "# https://www.tensorflow.org/api_docs/python/tf/keras/layers/Embedding\n",
    "embedding = tf.keras.layers.Embedding(name='my_embedding', input_dim=num_idx, output_dim=out_dim , weights=[fake_weights])\n",
    "model = tf.keras.Sequential([embedding])\n",
    "model.compile()\n",
    "print(\"embedding weights:\\n\", embedding.get_weights())"
   ]
  },
  {
   "cell_type": "code",
   "execution_count": 8,
   "id": "2a8ca3aa-7aec-4fb5-8cdb-c97040acba05",
   "metadata": {
    "tags": []
   },
   "outputs": [
    {
     "data": {
      "text/plain": [
       "<tf.Tensor: shape=(3, 5), dtype=float32, numpy=\n",
       "array([[0.22, 0.22, 0.22, 0.22, 0.22],\n",
       "       [0.33, 0.33, 0.33, 0.33, 0.33],\n",
       "       [0.11, 0.11, 0.11, 0.11, 0.11]], dtype=float32)>"
      ]
     },
     "execution_count": 8,
     "metadata": {},
     "output_type": "execute_result"
    }
   ],
   "source": [
    "# here is the embedding of the idx vector, using a normal Embedding layer:\n",
    "embedding(idx)\n"
   ]
  },
  {
   "cell_type": "markdown",
   "id": "3b3afbac-1842-4967-86f4-e89315ac8975",
   "metadata": {},
   "source": [
    "# Using a Linear (Dense) Layer\n",
    "Now, we will demonstrate that the embedding layer above accomplishes exactly the same as a Dense layer on a one-hot encoded representation in Tensorflow.\n",
    "First, let's convert the token IDs into a one-hot representation:"
   ]
  },
  {
   "cell_type": "code",
   "execution_count": 9,
   "id": "062f5976-ad20-4f66-b450-342eb00ea92c",
   "metadata": {
    "tags": []
   },
   "outputs": [
    {
     "name": "stdout",
     "output_type": "stream",
     "text": [
      "onehot:\n",
      " tf.Tensor(\n",
      "[[0. 0. 1. 0.]\n",
      " [0. 0. 0. 1.]\n",
      " [0. 1. 0. 0.]], shape=(3, 4), dtype=float32)\n"
     ]
    }
   ],
   "source": [
    "onehot = tf.one_hot(idx, num_idx)\n",
    "print(\"onehot:\\n\", onehot)"
   ]
  },
  {
   "cell_type": "code",
   "execution_count": 10,
   "id": "90da71fa-8344-4922-8670-43d946e3a912",
   "metadata": {
    "tags": []
   },
   "outputs": [
    {
     "data": {
      "text/plain": [
       "[array([[0.  , 0.  , 0.  , 0.  , 0.  ],\n",
       "        [0.11, 0.11, 0.11, 0.11, 0.11],\n",
       "        [0.22, 0.22, 0.22, 0.22, 0.22],\n",
       "        [0.33, 0.33, 0.33, 0.33, 0.33]], dtype=float32)]"
      ]
     },
     "execution_count": 10,
     "metadata": {},
     "output_type": "execute_result"
    }
   ],
   "source": [
    "# Load the same weights into the Dense layer\n",
    "linear = tf.keras.layers.Dense(name='my_dense', units=out_dim, use_bias=False, input_shape=(3,4), weights=[fake_weights])\n",
    "model = tf.keras.Sequential([linear])\n",
    "model.compile()\n",
    "linear.get_weights()"
   ]
  },
  {
   "cell_type": "code",
   "execution_count": 11,
   "id": "ad32d1b8-a8a4-4c95-a9d5-93f0528419f3",
   "metadata": {
    "tags": []
   },
   "outputs": [
    {
     "data": {
      "text/plain": [
       "<tf.Tensor: shape=(3, 5), dtype=float32, numpy=\n",
       "array([[0.22, 0.22, 0.22, 0.22, 0.22],\n",
       "       [0.33, 0.33, 0.33, 0.33, 0.33],\n",
       "       [0.11, 0.11, 0.11, 0.11, 0.11]], dtype=float32)>"
      ]
     },
     "execution_count": 11,
     "metadata": {},
     "output_type": "execute_result"
    }
   ],
   "source": [
    "# This produces an identical embedding:\n",
    "linear(onehot)"
   ]
  },
  {
   "cell_type": "markdown",
   "id": "f49c6a0d-0747-4f7a-bbad-5176e8a5175e",
   "metadata": {},
   "source": [
    "- Since all but one index in each one-hot encoded row are 0 (by design), this matrix multiplication is essentially the same as a look-up of the one-hot elements\n",
    "- This use of the matrix multiplication on one-hot encodings is equivalent to the embedding layer look-up but can be inefficient if we work with large embedding matrices, because there are a lot of wasteful multiplications by zero"
   ]
  },
  {
   "cell_type": "code",
   "execution_count": null,
   "id": "9f7dcd99-42ff-42c5-b336-202f57e3479b",
   "metadata": {},
   "outputs": [],
   "source": []
  }
 ],
 "metadata": {
  "kernelspec": {
   "display_name": "Python 3 (ipykernel)",
   "language": "python",
   "name": "python3"
  },
  "language_info": {
   "codemirror_mode": {
    "name": "ipython",
    "version": 3
   },
   "file_extension": ".py",
   "mimetype": "text/x-python",
   "name": "python",
   "nbconvert_exporter": "python",
   "pygments_lexer": "ipython3",
   "version": "3.11.7"
  }
 },
 "nbformat": 4,
 "nbformat_minor": 5
}
