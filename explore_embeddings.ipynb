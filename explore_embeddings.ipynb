{
 "cells": [
  {
   "cell_type": "code",
   "execution_count": 1,
   "id": "819279ea-69cb-424e-ac67-6f6b3b5982b1",
   "metadata": {
    "tags": []
   },
   "outputs": [],
   "source": [
    "# Import the libraries\n",
    "import pickle\n",
    "import matplotlib.pyplot as plt\n",
    "import numpy as np\n",
    "\n",
    "# Load the word2int dictionaries\n",
    "with open(\"./data/word2int_en.pkl\", \"rb\") as f:\n",
    "    en_words = pickle.load(f)\n",
    "    \n",
    "with open(\"./data/word2int_fr.pkl\", \"rb\") as f:\n",
    "    fr_words = pickle.load(f)\n",
    "\n",
    "# Load the word embeddings\n",
    "en_embeddings = np.load(\"./data/embeddings_en.npz\")[\"embeddings\"]\n",
    "fr_embeddings = np.load(\"./data/embeddings_fr.npz\")[\"embeddings\"]"
   ]
  },
  {
   "cell_type": "code",
   "execution_count": 2,
   "id": "21536ac7-9a8b-4614-8117-086a02857f67",
   "metadata": {
    "tags": []
   },
   "outputs": [
    {
     "name": "stdout",
     "output_type": "stream",
     "text": [
      "type(en_words): <class 'dict'>\n",
      "len(en_words): 10000\n",
      "Key: ,, Value: 0\n",
      "Key: ., Value: 1\n",
      "Key: the, Value: 2\n",
      "Key: </s>, Value: 3\n",
      "Key: of, Value: 4\n",
      "Key: -, Value: 5\n",
      "Key: in, Value: 6\n",
      "Key: and, Value: 7\n",
      "Key: ', Value: 8\n",
      "Key: ), Value: 9\n"
     ]
    }
   ],
   "source": [
    "print(\"type(en_words):\", type(en_words))\n",
    "print(\"len(en_words):\", len(en_words))\n",
    "for key, value in list(en_words.items())[:10]:\n",
    "  print(f\"Key: {key}, Value: {value}\")"
   ]
  },
  {
   "cell_type": "code",
   "execution_count": 3,
   "id": "64fbb960-2467-4919-aa0a-f384bffffd8d",
   "metadata": {
    "tags": []
   },
   "outputs": [
    {
     "name": "stdout",
     "output_type": "stream",
     "text": [
      "type(en_embeddings): <class 'numpy.ndarray'>\n",
      "en_embeddings.shape: (10000, 300)\n",
      "en_embeddings:\n",
      " [[-0.0113 -0.0021 -0.0515 ...  0.0436 -0.0077  0.0724]\n",
      " [-0.0469 -0.0006 -0.0751 ...  0.0268 -0.0514  0.0166]\n",
      " [-0.0324 -0.0462 -0.0087 ...  0.0827 -0.065   0.0176]\n",
      " ...\n",
      " [-0.0332 -0.0271 -0.047  ...  0.0392  0.0566 -0.0196]\n",
      " [ 0.0098 -0.0073 -0.0723 ... -0.0071  0.0549  0.0446]\n",
      " [-0.0381 -0.0002 -0.0091 ...  0.0572 -0.0045  0.0472]]\n"
     ]
    }
   ],
   "source": [
    "print(\"type(en_embeddings):\", type(en_embeddings))\n",
    "print(\"en_embeddings.shape:\", en_embeddings.shape)\n",
    "print(\"en_embeddings:\\n\", en_embeddings)"
   ]
  },
  {
   "cell_type": "code",
   "execution_count": 4,
   "id": "ee4701fb-382a-4c10-8773-a820e2e6635c",
   "metadata": {
    "tags": []
   },
   "outputs": [],
   "source": [
    "# Define some helper functions\n",
    "\n",
    "def tokenize(sentence, token_mapping):\n",
    "    tokenized = []\n",
    "    \n",
    "    for word in sentence.lower().split(\" \"):\n",
    "        try:\n",
    "            tokenized.append(token_mapping[word])\n",
    "        except KeyError:\n",
    "            # Using -1 to indicate an unknown word\n",
    "            tokenized.append(-1)\n",
    "        \n",
    "    return tokenized\n",
    "\n",
    "def embed(tokens, embeddings):\n",
    "    embed_size = embeddings.shape[1]\n",
    "    \n",
    "    output = np.zeros((len(tokens), embed_size))\n",
    "    for i, token in enumerate(tokens):\n",
    "        if token == -1:\n",
    "            output[i] = np.zeros((1, embed_size))\n",
    "        else:\n",
    "            output[i] = embeddings[token]\n",
    "            \n",
    "    return output"
   ]
  },
  {
   "cell_type": "code",
   "execution_count": 5,
   "id": "1a64917e-c126-4e33-87b7-b37fa88bebc8",
   "metadata": {
    "tags": []
   },
   "outputs": [],
   "source": [
    "def softmax(x, axis=0):    \n",
    "    \"\"\" Calculate softmax function for an array x\n",
    "\n",
    "        axis=0 calculates softmax across rows which means each column sums to 1 \n",
    "        axis=1 calculates softmax across columns which means each row sums to 1\n",
    "    \"\"\"\n",
    "    # Replace pass with your code.\n",
    "    return np.exp(x) / np.expand_dims(np.sum(np.exp(x), axis=axis), axis)\n",
    "\n",
    "import math\n",
    "def calculate_weights(queries, keys):\n",
    "    \"\"\" Calculate the weights for scaled dot-product attention\"\"\"\n",
    "    # Replace None with your code.\n",
    "#     dot = np.dot(queries, np.transpose(keys)) / math.sqrt(len(keys))\n",
    "    norm_dot = np.matmul(queries, keys.T)/np.sqrt(keys.shape[1])\n",
    "    print(\".. in calculate_weights, norm_dot=\\n\", norm_dot)\n",
    "    weights = softmax(norm_dot, axis=1)\n",
    "    # print(\".. in calculate_weights, weights=\\n\", weights)\n",
    "    row_sum = weights.sum(axis=1)[1]\n",
    "    print('row_sum=', row_sum)\n",
    "    # assert weights.sum(axis=1)[1] == 1, \"Each row in weights must sum to 1\"\n",
    "    assert abs(row_sum - 1 < 0.001), \"Each row in weights must sum to 1\"\n",
    "\n",
    "    # Replace pass with your code.\n",
    "    return weights"
   ]
  },
  {
   "cell_type": "code",
   "execution_count": 6,
   "id": "f44ddbe4-c8ce-4949-b72e-0c6be9769f7e",
   "metadata": {
    "tags": []
   },
   "outputs": [
    {
     "name": "stdout",
     "output_type": "stream",
     "text": [
      "nearest_fr_word: maison max_dot: 0.45812264999999996\n"
     ]
    }
   ],
   "source": [
    "def get_embedding(word, word_list, embeddings):\n",
    "    word_id = word_list.get(word)\n",
    "    # print(\"word:\", word, \"word_id:\", word_id)\n",
    "    embedding = embeddings[word_id]\n",
    "    # print(\"embedding.shape:\", embedding.shape)\n",
    "    return np.array(embedding)\n",
    "\n",
    "def generate_unit_vectors():\n",
    "  \"\"\"Generates 10 2D unit vectors from 0 to 90 degrees inclusive.\"\"\"\n",
    "\n",
    "  # Create 10 evenly spaced angles between 0 and 90 degrees.\n",
    "  degrees = np.linspace(0, 90, 10)\n",
    "  print(f\"Angles in degrees: {degrees}\")\n",
    "\n",
    "  # Convert degrees to radians for trigonometric functions.\n",
    "  radians = np.deg2rad(degrees)\n",
    "  print(f\"Angles in radians: {radians}\")\n",
    "\n",
    "  # Calculate the x (cosine) and y (sine) components of the unit vectors.\n",
    "  x_components = np.cos(radians)\n",
    "  y_components = np.sin(radians)\n",
    "\n",
    "  # Combine the x and y components into 2-element vectors.\n",
    "  # The np.stack function with axis=-1 pairs them up: [[x0, y0], [x1, y1], ...]\n",
    "  unit_vectors = np.stack((x_components, y_components), axis=-1)\n",
    "\n",
    "  return unit_vectors\n",
    "\n",
    "def find_nearest_fr_word(en_word, en_words, en_embeddings, fr_words, fr_embeddings, limit=10000):\n",
    "  en_word_embedding = get_embedding(en_word, en_words, en_embeddings)\n",
    "  i = 0\n",
    "  max_dot = -100\n",
    "  nearest_fr_word = ''\n",
    "  for fr_word, fr_word_id in fr_words.items():\n",
    "    # print(fr_word_id, fr_word)\n",
    "    fr_word_embedding = get_embedding(fr_word, fr_words, fr_embeddings)\n",
    "    # print(fr_word_embedding.shape)\n",
    "    # print(apple_embedding.shape)\n",
    "    dott = np.dot(en_word_embedding, fr_word_embedding)\n",
    "    # print(\"i\", i, \"fr_word\", fr_word, \"fr_word_id\", word_id, 'fr_word_id', dott)\n",
    "    i+= 1\n",
    "    if dott > max_dot:\n",
    "        max_dot = dott\n",
    "        nearest_fr_word = fr_word\n",
    "    if i > limit:\n",
    "      break\n",
    "  return (nearest_fr_word, max_dot)\n",
    "\n",
    "nearest_fr_word, max_dot = find_nearest_fr_word('house', en_words, en_embeddings, fr_words, fr_embeddings)\n",
    "\n",
    "print('nearest_fr_word:', nearest_fr_word, \"max_dot:\", max_dot)"
   ]
  },
  {
   "cell_type": "code",
   "execution_count": 7,
   "id": "46dfb2ab-d605-43d3-907f-6f3692202772",
   "metadata": {
    "tags": []
   },
   "outputs": [
    {
     "data": {
      "text/plain": [
       "3630"
      ]
     },
     "execution_count": 7,
     "metadata": {},
     "output_type": "execute_result"
    }
   ],
   "source": [
    "en_words.get('apple')"
   ]
  },
  {
   "cell_type": "code",
   "execution_count": 8,
   "id": "88710382-8f20-41fc-9f8d-b1906169a899",
   "metadata": {
    "tags": []
   },
   "outputs": [
    {
     "data": {
      "text/plain": [
       "5301"
      ]
     },
     "execution_count": 8,
     "metadata": {},
     "output_type": "execute_result"
    }
   ],
   "source": [
    "fr_words.get('pomme')"
   ]
  },
  {
   "cell_type": "code",
   "execution_count": 9,
   "id": "824b394d-6506-4313-afe1-0a59ecba8fd5",
   "metadata": {
    "tags": []
   },
   "outputs": [],
   "source": [
    "np_apple = np.array(en_embeddings[3630])"
   ]
  },
  {
   "cell_type": "code",
   "execution_count": 10,
   "id": "162ac6fe-fac3-4117-8deb-5ff84a37fee5",
   "metadata": {
    "tags": []
   },
   "outputs": [],
   "source": [
    "np_pomme = np.array(fr_embeddings[5301])"
   ]
  },
  {
   "cell_type": "code",
   "execution_count": 11,
   "id": "431895d3-3d3b-4c33-9d10-05773f7b1906",
   "metadata": {
    "tags": []
   },
   "outputs": [
    {
     "data": {
      "text/plain": [
       "0.28109375"
      ]
     },
     "execution_count": 11,
     "metadata": {},
     "output_type": "execute_result"
    }
   ],
   "source": [
    "np.dot(np_apple, np_pomme)"
   ]
  },
  {
   "cell_type": "code",
   "execution_count": 12,
   "id": "7ef94c37-e032-4638-b774-fadbacd1ed96",
   "metadata": {
    "tags": []
   },
   "outputs": [
    {
     "data": {
      "text/plain": [
       "0.28109375"
      ]
     },
     "execution_count": 12,
     "metadata": {},
     "output_type": "execute_result"
    }
   ],
   "source": [
    "np.dot(get_embedding('apple', en_words, en_embeddings), get_embedding('pomme', fr_words, fr_embeddings))\n",
    "                                                                      "
   ]
  },
  {
   "cell_type": "code",
   "execution_count": 13,
   "id": "f8ad6460-d88d-4a20-83a0-0d0b6b505058",
   "metadata": {
    "tags": []
   },
   "outputs": [
    {
     "data": {
      "text/plain": [
       "-0.05878853"
      ]
     },
     "execution_count": 13,
     "metadata": {},
     "output_type": "execute_result"
    }
   ],
   "source": [
    "np.dot(get_embedding('apple', en_words, en_embeddings), get_embedding('femme', fr_words, fr_embeddings))"
   ]
  },
  {
   "cell_type": "code",
   "execution_count": 14,
   "id": "eaa9d8cc-e2e4-4c5a-ae35-e02d7a55ff62",
   "metadata": {
    "tags": []
   },
   "outputs": [
    {
     "name": "stdout",
     "output_type": "stream",
     "text": [
      "(300,)\n"
     ]
    }
   ],
   "source": [
    "fr_word = '</s>'\n",
    "# fr_word = 'monde'\n",
    "fr_word_embedding = get_embedding(fr_word, fr_words, fr_embeddings)\n",
    "print(fr_word_embedding.shape)"
   ]
  },
  {
   "cell_type": "code",
   "execution_count": 15,
   "id": "9f0b6170-ae7f-442f-9965-b80a16d7c140",
   "metadata": {
    "tags": []
   },
   "outputs": [
    {
     "data": {
      "text/plain": [
       "(300,)"
      ]
     },
     "execution_count": 15,
     "metadata": {},
     "output_type": "execute_result"
    }
   ],
   "source": [
    "apple_embedding = get_embedding('apple', en_words, en_embeddings)\n",
    "apple_embedding.shape"
   ]
  },
  {
   "cell_type": "code",
   "execution_count": 52,
   "id": "a69b17a3-6501-4bb0-aa7e-0a7b7b5842ef",
   "metadata": {
    "tags": []
   },
   "outputs": [
    {
     "name": "stdout",
     "output_type": "stream",
     "text": [
      "tokenized_fr: [1, 2, 3, 4, 0]\n",
      "embedded_fr:\n",
      " [[0. 1. 0. 0. 0.]\n",
      " [0. 0. 1. 0. 0.]\n",
      " [0. 0. 0. 1. 0.]\n",
      " [0. 0. 0. 0. 1.]\n",
      " [1. 0. 0. 0. 0.]]\n"
     ]
    }
   ],
   "source": [
    "fake_fr_words = {\n",
    "    \".\": 0,\n",
    "    \"le\": 1,\n",
    "    \"garcon\": 2,\n",
    "    \"et\": 3,\n",
    "    \"chapeau\": 4,\n",
    "}\n",
    "# fake_fr_embeddings = generate_unit_vectors()\n",
    "fake_fr_embeddings = np.array([\n",
    "  [1.0, 0.0, 0.0, 0.0, 0.0],\n",
    "  [0.0, 1.0, 0.0, 0.0, 0.0],\n",
    "  [0.0, 0.0, 1.0, 0.0, 0.0],\n",
    "  [0.0, 0.0, 0.0, 1.0, 0.0],\n",
    "  [0.0, 0.0, 0.0, 0.0, 1.0],\n",
    "])\n",
    "sentence_fr = \"le garcon et chapeau .\"\n",
    "tokenized_fr = tokenize(sentence_fr, fake_fr_words)\n",
    "embedded_fr = embed(tokenized_fr, fake_fr_embeddings)\n",
    "print(\"tokenized_fr:\", tokenized_fr)\n",
    "print(\"embedded_fr:\\n\", embedded_fr)"
   ]
  },
  {
   "cell_type": "code",
   "execution_count": 53,
   "id": "403554ab-26a7-4f02-a01d-2015de7f4feb",
   "metadata": {
    "tags": []
   },
   "outputs": [
    {
     "name": "stdout",
     "output_type": "stream",
     "text": [
      "tokenized_en: [1, 2, 3, 4, 0]\n",
      "embedded_en:\n",
      " [[0. 1. 0. 0. 0.]\n",
      " [0. 0. 1. 0. 0.]\n",
      " [0. 0. 0. 1. 0.]\n",
      " [0. 0. 0. 0. 1.]\n",
      " [1. 0. 0. 0. 0.]]\n"
     ]
    }
   ],
   "source": [
    "fake_en_words = {\n",
    "    \".\": 0,\n",
    "    \"the\": 1,\n",
    "    \"boy\": 2,\n",
    "    \"and\": 3,\n",
    "    \"hat\": 4,\n",
    "}\n",
    "# fake_en_embeddings = generate_unit_vectors()\n",
    "fake_en_embeddings = np.array([\n",
    "  [1.0, 0.0, 0.0, 0.0, 0.0],\n",
    "  [0.0, 1.0, 0.0, 0.0, 0.0],\n",
    "  [0.0, 0.0, 1.0, 0.0, 0.0],\n",
    "  [0.0, 0.0, 0.0, 1.0, 0.0],\n",
    "  [0.0, 0.0, 0.0, 0.0, 1.0],\n",
    "])\n",
    "sentence_en = \"the boy and hat .\"\n",
    "tokenized_en = tokenize(sentence_en, fake_en_words)\n",
    "embedded_en = embed(tokenized_en, fake_en_embeddings)\n",
    "print(\"tokenized_en:\", tokenized_en)\n",
    "print(\"embedded_en:\\n\", embedded_en)"
   ]
  },
  {
   "cell_type": "code",
   "execution_count": 54,
   "id": "0f223a75-dbb4-4ad9-af93-a00fffd56f1b",
   "metadata": {
    "tags": []
   },
   "outputs": [
    {
     "name": "stdout",
     "output_type": "stream",
     "text": [
      "nearest_fr_word to boy is garcon with dot: 1.0\n"
     ]
    }
   ],
   "source": [
    "en_word = 'boy'\n",
    "nearest_fr_word, max_dot = find_nearest_fr_word(en_word, fake_en_words, fake_en_embeddings, fake_fr_words, fake_fr_embeddings)\n",
    "print('nearest_fr_word to', en_word, 'is', nearest_fr_word, \"with dot:\", max_dot)"
   ]
  },
  {
   "cell_type": "code",
   "execution_count": 55,
   "id": "a026eb8e-3b23-4f20-b8f4-266f9489737c",
   "metadata": {
    "tags": []
   },
   "outputs": [
    {
     "name": "stdout",
     "output_type": "stream",
     "text": [
      "queries:\n",
      " [[0. 1. 0. 0. 0.]\n",
      " [0. 0. 1. 0. 0.]\n",
      " [0. 0. 0. 1. 0.]\n",
      " [0. 0. 0. 0. 1.]\n",
      " [1. 0. 0. 0. 0.]]\n",
      "keys:\n",
      " [[0. 1. 0. 0. 0.]\n",
      " [0. 0. 1. 0. 0.]\n",
      " [0. 0. 0. 1. 0.]\n",
      " [0. 0. 0. 0. 1.]\n",
      " [1. 0. 0. 0. 0.]]\n",
      "keys.T:\n",
      " [[0. 0. 0. 0. 1.]\n",
      " [1. 0. 0. 0. 0.]\n",
      " [0. 1. 0. 0. 0.]\n",
      " [0. 0. 1. 0. 0.]\n",
      " [0. 0. 0. 1. 0.]]\n",
      "queryies matmul keys.T:\n",
      " [[1. 0. 0. 0. 0.]\n",
      " [0. 1. 0. 0. 0.]\n",
      " [0. 0. 1. 0. 0.]\n",
      " [0. 0. 0. 1. 0.]\n",
      " [0. 0. 0. 0. 1.]]\n"
     ]
    }
   ],
   "source": [
    "queries = embedded_fr\n",
    "keys = embedded_en\n",
    "\n",
    "dot = np.matmul(queries, keys.T)\n",
    "print(\"queries:\\n\", queries)\n",
    "print(\"keys:\\n\", keys)\n",
    "print(\"keys.T:\\n\", keys.T)\n",
    "print(\"queryies matmul keys.T:\\n\", dot)"
   ]
  },
  {
   "cell_type": "code",
   "execution_count": 56,
   "id": "1094cfcb-91f3-4402-af45-39ffc442a40d",
   "metadata": {
    "tags": []
   },
   "outputs": [
    {
     "name": "stdout",
     "output_type": "stream",
     "text": [
      "norm_dot:\n",
      " [[0.70710678 0.         0.         0.         0.        ]\n",
      " [0.         0.70710678 0.         0.         0.        ]\n",
      " [0.         0.         0.70710678 0.         0.        ]\n",
      " [0.         0.         0.         0.70710678 0.        ]\n",
      " [0.         0.         0.         0.         0.70710678]]\n"
     ]
    }
   ],
   "source": [
    "norm_dot = dot / np.sqrt(2) # keys.shape[1]\n",
    "print(\"norm_dot:\\n\", norm_dot)"
   ]
  },
  {
   "cell_type": "code",
   "execution_count": 57,
   "id": "d8330696-deb7-47c5-b04e-75332bce195e",
   "metadata": {
    "tags": []
   },
   "outputs": [
    {
     "name": "stdout",
     "output_type": "stream",
     "text": [
      "alignment:\n",
      " [[0.33644265 0.16588934 0.16588934 0.16588934 0.16588934]\n",
      " [0.16588934 0.33644265 0.16588934 0.16588934 0.16588934]\n",
      " [0.16588934 0.16588934 0.33644265 0.16588934 0.16588934]\n",
      " [0.16588934 0.16588934 0.16588934 0.33644265 0.16588934]\n",
      " [0.16588934 0.16588934 0.16588934 0.16588934 0.33644265]]\n"
     ]
    }
   ],
   "source": [
    "alignment = softmax(norm_dot, axis=1)\n",
    "print(\"alignment:\\n\", alignment)"
   ]
  },
  {
   "cell_type": "code",
   "execution_count": 46,
   "id": "895e9ae6-672d-4940-98da-bf566fc46ee7",
   "metadata": {
    "tags": []
   },
   "outputs": [
    {
     "name": "stdout",
     "output_type": "stream",
     "text": [
      ".. in calculate_weights, norm_dot=\n",
      " [[0.70710678 0.69636424 0.66446302 0.61237244 0.69636424]\n",
      " [0.69636424 0.70710678 0.69636424 0.66446302 0.66446302]\n",
      " [0.66446302 0.69636424 0.70710678 0.69636424 0.61237244]\n",
      " [0.61237244 0.66446302 0.69636424 0.70710678 0.54167522]\n",
      " [0.69636424 0.66446302 0.61237244 0.54167522 0.70710678]]\n",
      "row_sum= 0.9999999999999999\n",
      "alignment:\n",
      " [[0.20633459 0.20412989 0.19772068 0.18768494 0.20412989]\n",
      " [0.20210166 0.20428445 0.20210166 0.19575612 0.19575612]\n",
      " [0.19772068 0.20412989 0.20633459 0.20412989 0.18768494]\n",
      " [0.19334125 0.20367944 0.21028181 0.21255295 0.18014455]\n",
      " [0.21028181 0.20367944 0.19334125 0.18014455 0.21255295]]\n"
     ]
    }
   ],
   "source": [
    "# Tokenize example sentences in English and French, then get their embeddings\n",
    "# sentence_en = \"The agreement on the European Economic Area was signed in August 1992 .\"\n",
    "# sentence_en = \"agreement European August .\"\n",
    "sentence_en = \"the boy and hat .\"\n",
    "tokenized_en = tokenize(sentence_en, fake_en_words)\n",
    "embedded_en = embed(tokenized_en, fake_en_embeddings)\n",
    "\n",
    "# tokenized_en = tokenize(sentence_en, en_words)\n",
    "# embedded_en = embed(tokenized_en, en_embeddings)\n",
    "\n",
    "\n",
    "# sentence_fr = \"L accord sur la zone économique européenne a été signé en août 1992 .\"\n",
    "# sentence_fr = \"accord européenne août .\"\n",
    "sentence_fr = \"le garcon et chapeau .\"\n",
    "tokenized_fr = tokenize(sentence_fr, fake_fr_words)\n",
    "embedded_fr = embed(tokenized_fr, fake_fr_embeddings)\n",
    "\n",
    "# tokenized_fr = tokenize(sentence_fr, fr_words)\n",
    "# embedded_fr = embed(tokenized_fr, fr_embeddings)\n",
    "\n",
    "# These weights indicate alignment between words in English and French\n",
    "\n",
    "alignment = calculate_weights(queries=embedded_fr, keys=embedded_en)\n",
    "print(\"alignment:\\n\", alignment)"
   ]
  },
  {
   "cell_type": "code",
   "execution_count": 58,
   "id": "79058d5b-0caa-4f3b-b7e6-b34e34ba5ba2",
   "metadata": {
    "tags": []
   },
   "outputs": [
    {
     "data": {
      "image/png": "[encoded data removed]",
      "text/plain": [
       "<Figure size 700x700 with 1 Axes>"
      ]
     },
     "metadata": {},
     "output_type": "display_data"
    }
   ],
   "source": [
    "# Visualize weights to check for alignment\n",
    "fig, ax = plt.subplots(figsize=(7,7))\n",
    "ax.imshow(alignment, cmap='gray')\n",
    "ax.xaxis.tick_top()\n",
    "ax.set_xticks(np.arange(alignment.shape[1]))\n",
    "ax.set_xticklabels(sentence_en.split(\" \"), rotation=90, size=16);\n",
    "ax.set_yticks(np.arange(alignment.shape[0]));\n",
    "ax.set_yticklabels(sentence_fr.split(\" \"), size=16);"
   ]
  },
  {
   "cell_type": "code",
   "execution_count": 38,
   "id": "45725469-ce90-44ae-8e7a-b9a4068c66a5",
   "metadata": {
    "tags": []
   },
   "outputs": [
    {
     "name": "stdout",
     "output_type": "stream",
     "text": [
      "nearest_fr_word to bed is lit with dot: 0.3843656600000001\n"
     ]
    }
   ],
   "source": [
    "en_word = 'bed'\n",
    "nearest_fr_word, max_dot = find_nearest_fr_word(en_word, en_words, en_embeddings, fr_words, fr_embeddings)\n",
    "print('nearest_fr_word to', en_word, 'is', nearest_fr_word, \"with dot:\", max_dot)"
   ]
  },
  {
   "cell_type": "code",
   "execution_count": 36,
   "id": "30334365-1357-4102-b613-cc9396f4fb70",
   "metadata": {
    "tags": []
   },
   "outputs": [
    {
     "data": {
      "text/plain": [
       "63"
      ]
     },
     "execution_count": 36,
     "metadata": {},
     "output_type": "execute_result"
    }
   ],
   "source": [
    "fr_words.get('the')"
   ]
  },
  {
   "cell_type": "code",
   "execution_count": null,
   "id": "846e267b-8bb8-4b34-a8a5-70f593c89586",
   "metadata": {},
   "outputs": [],
   "source": [
    "the bed and the hat"
   ]
  },
  {
   "cell_type": "code",
   "execution_count": null,
   "id": "9f4d4af3-0ff8-46c1-8c20-de619b216b9f",
   "metadata": {},
   "outputs": [],
   "source": []
  },
  {
   "cell_type": "code",
   "execution_count": null,
   "id": "75e16337-4e4d-48cb-a849-bf4ae18ac8bf",
   "metadata": {},
   "outputs": [],
   "source": []
  }
 ],
 "metadata": {
  "kernelspec": {
   "display_name": "Python 3 (ipykernel)",
   "language": "python",
   "name": "python3"
  },
  "language_info": {
   "codemirror_mode": {
    "name": "ipython",
    "version": 3
   },
   "file_extension": ".py",
   "mimetype": "text/x-python",
   "name": "python",
   "nbconvert_exporter": "python",
   "pygments_lexer": "ipython3",
   "version": "3.11.7"
  }
 },
 "nbformat": 4,
 "nbformat_minor": 5
}
